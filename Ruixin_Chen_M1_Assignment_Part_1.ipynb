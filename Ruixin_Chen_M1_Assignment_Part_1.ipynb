{
 "cells": [
  {
   "cell_type": "markdown",
   "metadata": {
    "colab_type": "text",
    "id": "view-in-github"
   },
   "source": [
    "<a href=\"https://colab.research.google.com/github/Natural-Language-Processing-YU/Module-1-Assignment/blob/main/M1_Assignment_Part_1.ipynb\" target=\"_parent\"><img src=\"https://colab.research.google.com/assets/colab-badge.svg\" alt=\"Open In Colab\"/></a>"
   ]
  },
  {
   "cell_type": "markdown",
   "metadata": {
    "id": "URHO-Uji2koG"
   },
   "source": [
    "# M1 Assignment: Text Processing and Edit Distance \n",
    "\n",
    "In this section we will be exploring how to preprocess tweets . We will provide a function for preprocessing tweets during this week's assignment, but it is still good to know what is going on under the hood. By the end of this assignment, you will see how to use the [NLTK](http://www.nltk.org) package to perform a preprocessing pipeline for Twitter datasets."
   ]
  },
  {
   "cell_type": "markdown",
   "metadata": {
    "id": "cVg-26AV2koP"
   },
   "source": [
    "## Setup\n",
    "Eventually, you will conduct a sentiment analysis on Tweets. To help with that, we will be using the Natural Language Toolkit (NLTK) package, an open-source Python library for natural language processing. In this library you will use the NLTK to assist with processing the tweet to clean it for interpretation. \n",
    "\n",
    "In Part 1.1, you will extract a set of Elon Musk tweets. Next in Part 1.2, you will process the tweets using the various processing tasks outlined in the section and Chapter 2 of Jurafsky and Martin. Finally, in Part 1.3, you will create a simple version of a Levensthein distance formula to run the edit distance between two matrices. \n",
    "\n",
    "As part of completing the assignment, you will see that there are areas in the note book for you to complete your own coding input. \n",
    "\n",
    "It will be look like following: \n",
    "```\n",
    "### START CODE HERE (REPLACE INSTANCES OF 'None' with your code) ###\n",
    "'Some coding activity for you to complete'\n",
    "### END CODE HERE ###\n",
    "\n",
    "```"
   ]
  },
  {
   "cell_type": "markdown",
   "metadata": {
    "id": "MYLzCpw62fYi"
   },
   "source": [
    "Additionally, you will be using custom media and libraries created and stored for your in your Colab environment.\n"
   ]
  },
  {
   "cell_type": "markdown",
   "metadata": {
    "id": "td35EC362koR"
   },
   "source": [
    "## Part 1.1: Using tweetsts\n",
    "\n",
    "---\n",
    "\n"
   ]
  },
  {
   "cell_type": "markdown",
   "metadata": {
    "id": "hzNDoS1P2koY"
   },
   "source": [
    "### Extracting tweets\n",
    "In this next section, we're going to import Elon Musk's tweets and prepare them to preprocess. Use the following code to connect to the M1 Assignment Repo and download it to your Google Colab Account\n",
    "\n"
   ]
  },
  {
   "cell_type": "code",
   "execution_count": null,
   "metadata": {
    "colab": {
     "base_uri": "https://localhost:8080/"
    },
    "id": "6WNrUiAYxglN",
    "outputId": "d1392194-005f-4549-f058-160d64a807b3"
   },
   "outputs": [],
   "source": [
    "#install this if you do not have this already installed\n",
    "!pip install gitpython \n",
    "import git\n",
    "import sys\n",
    "\n",
    "\n",
    "# Clone the GitHub repository\n",
    "repo_url = 'https://github.com/Natural-Language-Processing-YU/Module-1-Assignment.git'\n",
    "repo_dir = '/content/m1_repo'  # Specify the directory to clone the repository\n",
    "git.Repo.clone_from(repo_url, repo_dir)\n",
    "# Add the cloned repository directory to the import path\n",
    "\n"
   ]
  },
  {
   "cell_type": "markdown",
   "metadata": {
    "id": "Md_LSWJUud-U"
   },
   "source": [
    "Use the pandas library to create a dataframe with the csv file full owf twees. "
   ]
  },
  {
   "cell_type": "code",
   "execution_count": null,
   "metadata": {
    "colab": {
     "base_uri": "https://localhost:8080/"
    },
    "id": "W308paKm2kob",
    "outputId": "bccfc60a-0fe8-40e6-9dd3-dcd590878d46"
   },
   "outputs": [],
   "source": [
    "#extract the tweets\n",
    "import pandas as pd\n",
    "\n",
    "tweets = pd.read_csv('/content/m1_repo/data/elonmusk_tweets.csv') #import file\n",
    "print(tweets.dtypes) #print data types\n",
    "print(tweets.text) #show tweets from file\n",
    "df = pd.DataFrame(tweets)\n",
    "df\n"
   ]
  },
  {
   "cell_type": "markdown",
   "metadata": {
    "id": "S2kk1YB-2koa"
   },
   "source": [
    "## Part 1.2: Preprocessing the text from tweets\n",
    "Text processing is one of the critical steps in an NLP project and in data scenience and analytics. It includes cleaning and formatting the data before feeding an algorithm. For NLP, the preprocessing steps are comprised of the following tasks:\n",
    "\n",
    "1. Tokenizing the string\n",
    "2. Lowercasing\n",
    "3. Removing stop words and punctuation\n",
    "4. Stemming\n",
    "\n",
    "We will take this approach with a selected tweet that we returned from above see how this is transformed by each preprocessing step.\n",
    "\n",
    "Let's take one of the tweets and apply preprocessing steps"
   ]
  },
  {
   "cell_type": "markdown",
   "metadata": {
    "id": "fry6Eqa9ryXa"
   },
   "source": [
    "Let's take a look at one tweet from our dataframe:"
   ]
  },
  {
   "cell_type": "code",
   "execution_count": null,
   "metadata": {
    "colab": {
     "base_uri": "https://localhost:8080/"
    },
    "id": "vl2W0slVr2RS",
    "outputId": "c7c3d07f-c39d-490b-a2b9-ecdbf83666a9"
   },
   "outputs": [],
   "source": [
    "print('\\033[92m' + df['text'][2816])"
   ]
  },
  {
   "cell_type": "markdown",
   "metadata": {
    "id": "E2Ii7mmr2kod"
   },
   "source": [
    "### Remove hyperlinks, hashtags, and beginngin of strings\n",
    "Using this tweet, let's clean it up to remove unncessary information. First, we will use regex to remove hyperlinks. You will create the regex substring to remove hyperlinks, hashtabs and the start of a tweet line.  "
   ]
  },
  {
   "cell_type": "code",
   "execution_count": null,
   "metadata": {
    "colab": {
     "base_uri": "https://localhost:8080/"
    },
    "id": "sQljVSFM2kod",
    "outputId": "905a60f0-1377-411b-da35-0d77e96ac5a6"
   },
   "outputs": [],
   "source": [
    "### START CODE HERE (REPLACE INSTANCES OF 'None' with your code) ###\n",
    "#create regex for hyperlinks\n",
    "import re\n",
    "regex_remove_hyperlinks=r'http[s]?://\\S+'\n",
    "df['text'][2816] = re.sub(regex_remove_hyperlinks, '', df['text'][2816])\n",
    "\n",
    "# remove hashtags\n",
    "# only removing the hash # sign from the word\n",
    "regex_hash = r'#'\n",
    "df['text'][2816] = re.sub(regex_hash, '', df['text'][2816])\n",
    "\n",
    "\n",
    "# remove 'b from each string\n",
    "regex_string_beginning = r\"^b['\\\"]\"\n",
    "df['text'][2816] = re.sub(regex_string_beginning, '', df['text'][2816])\n",
    "\n",
    "### END CODE HERE ###\n",
    "\n",
    "\n",
    "# Print the modified tweet\n",
    "print('\\033[92m' + df['text'][2816])\n",
    "\n"
   ]
  },
  {
   "cell_type": "markdown",
   "metadata": {
    "id": "8X5-erZasQzI"
   },
   "source": [
    "#Using NLTK Libraries\n",
    "\n",
    "Now let's use the NLTK libraries to remove stopwords, tokenize, and stem the words. \n",
    "\n",
    "The Porter stemming algorithm, also known as the Porter stemmer, is a widely used algorithm for stemming words in natural language processing (NLP). It is named after its creator, Martin Porter. The goal of stemming is to reduce words to their base or root form, which helps to normalize variations of a word and reduce the vocabulary size."
   ]
  },
  {
   "cell_type": "code",
   "execution_count": null,
   "metadata": {
    "id": "8ZoSOGaW2koc"
   },
   "outputs": [],
   "source": [
    "import nltk                                # Python library for NLP\n",
    "import re                                  # library for regular expression operations\n",
    "import string                              # for string operations\n",
    "\n",
    "from nltk.corpus import stopwords          # module for stop words that come with NLTK\n",
    "from nltk.stem import PorterStemmer        # module for stemming\n",
    "from nltk.tokenize import TweetTokenizer   # module for tokenizing strings"
   ]
  },
  {
   "cell_type": "code",
   "execution_count": null,
   "metadata": {
    "colab": {
     "base_uri": "https://localhost:8080/"
    },
    "id": "xgaZcBmu2koc",
    "outputId": "b16b8d2a-c6df-40c1-cfc3-6e10ceb91d7a"
   },
   "outputs": [],
   "source": [
    "# download the stopwords from NLTK\n",
    "nltk.download('stopwords')"
   ]
  },
  {
   "cell_type": "markdown",
   "metadata": {
    "id": "tMBLZmjp2koe"
   },
   "source": [
    "### Tokenize the string\n",
    "\n",
    "To tokenize means to split the strings into individual words without blanks or tabs. In this same step, we will also convert each word in the string to lower case. The [tokenize](https://www.nltk.org/api/nltk.tokenize.html#module-nltk.tokenize.casual) module from NLTK allows us to do these easily:"
   ]
  },
  {
   "cell_type": "code",
   "execution_count": null,
   "metadata": {
    "id": "QD2ub7Dl2koe"
   },
   "outputs": [],
   "source": [
    "# instantiate tokenizer class\n",
    "tokenizer = TweetTokenizer(preserve_case=False, strip_handles=True,\n",
    "                               reduce_len=True)\n",
    "\n",
    "# tokenize tweets\n",
    "tokenized_tweet = tokenizer.tokenize(str(df['text'][2816]))\n",
    "\n",
    "\n",
    "print(tokenized_tweet)"
   ]
  },
  {
   "cell_type": "markdown",
   "metadata": {
    "id": "rv8jxMlK2kof"
   },
   "source": [
    "### Remove stop words and punctuations\n",
    "\n",
    "The next step is to remove stop words and miscelleneous punctuations. Stop words are words that do not have semantic meaning to the tweet. There is a library of stopwords built into NLTK. The list provided by NLTK when you run the cells below."
   ]
  },
  {
   "cell_type": "code",
   "execution_count": null,
   "metadata": {
    "colab": {
     "base_uri": "https://localhost:8080/"
    },
    "id": "weMOqHRp2kof",
    "outputId": "9eaf80b7-0592-462e-83a1-1a2808b9b806"
   },
   "outputs": [],
   "source": [
    "#Import the english stop words list from NLTK\n",
    "stopwords_english = stopwords.words('english') \n",
    "\n",
    "print('Stop words\\n')\n",
    "print(stopwords_english)\n",
    "\n",
    "print('\\nPunctuation\\n')\n",
    "print(string.punctuation)"
   ]
  },
  {
   "cell_type": "markdown",
   "metadata": {
    "id": "23rvPhYz2kof"
   },
   "source": [
    "We can see that the stop words list above contains some words that could be important in some contexts. \n",
    "These could be words like _i, not, between, because, won, against_. In some cases, you may want to update this dictionary of stop words to suit your needs. \n",
    "\n",
    "Certain groupings like ':)' and '...'  should be retained when dealing with tweets because they are used to express emotions, but in some cases they should be removed.\n"
   ]
  },
  {
   "cell_type": "code",
   "execution_count": null,
   "metadata": {
    "colab": {
     "base_uri": "https://localhost:8080/"
    },
    "id": "5Jnynu5K2kog",
    "outputId": "0211ca48-d08b-488f-addc-177325745259"
   },
   "outputs": [],
   "source": [
    "df2=df\n",
    "tweets_clean = []\n",
    "\n",
    "for word in tokenized_tweet: # Go through every word in your tokens list\n",
    "    if (word not in stopwords_english and  # remove stopwords\n",
    "        word not in string.punctuation):  # remove punctuation\n",
    "        tweets_clean.append(word)\n",
    "\n",
    "print('removed stop words and punctuation:')\n",
    "print(tweets_clean)"
   ]
  },
  {
   "cell_type": "markdown",
   "metadata": {
    "id": "Wse80ZKUrASY"
   },
   "source": [
    "Next, we use porter stemmer to stem words. \n",
    "\n",
    "            stem_word = stemmer.stem(word)  # stemming word\n",
    "            tweets_clean.append(stem_word)"
   ]
  },
  {
   "cell_type": "code",
   "execution_count": null,
   "metadata": {
    "id": "Nwq8pacZrLXg"
   },
   "outputs": [],
   "source": [
    "import nltk\n",
    "from nltk.stem import PorterStemmer\n",
    "\n",
    "stemmer = PorterStemmer()\n",
    "for word in tokenized_tweet:\n",
    "    stem_word = stemmer.stem(word)  \n",
    "    tweets_clean.append(stem_word)\n",
    "print(tweets_clean)"
   ]
  },
  {
   "cell_type": "markdown",
   "metadata": {
    "id": "9quRejfi2kog"
   },
   "source": [
    "## preprocess_tweet()\n",
    "\n",
    "As shown above, preprocessing consists of multiple steps before you arrive at the final list of words.  In the week's assignment, write a function called `preprocess_tweet()`. \n",
    "\n",
    "Then, use this to iterate through the dataframe and preprocess each tweet into a new column. \n",
    "\n",
    "Print your results. \n"
   ]
  },
  {
   "cell_type": "code",
   "execution_count": null,
   "metadata": {
    "id": "frUPXf542koh"
   },
   "outputs": [],
   "source": [
    "### START CODE HERE (REPLACE INSTANCES OF 'None' with your code) ###\n",
    "nltk.download('stopwords')\n",
    "stopwords_english=stopwords.words('english')\n",
    "def preprocess_tweet(tweet):\n",
    "    regex_remove_hyperlinks=r'http[s]?://\\S+'\n",
    "    tweet=re.sub(regex_remove_hyperlinks, '', tweet)\n",
    "    regex_hash=r'#'\n",
    "    tweet=re.sub(regex_hash, '', tweet)\n",
    "    regex_string_beginning=r\"^b['\\\"]\"\n",
    "    tweet=re.sub(regex_string_beginning, '', tweet)\n",
    "    tokenizer=TweetTokenizer(preserve_case=False, strip_handles=True, reduce_len=True)\n",
    "    tokenized_tweet=tokenizer.tokenize(tweet)\n",
    "    tweets_clean=[]\n",
    "    for word in tokenized_tweet: \n",
    "        if word not in stopwords_english and word not in string.punctuation:\n",
    "            tweets_clean.append(word)\n",
    "\n",
    "    return tweets_clean"
   ]
  },
  {
   "cell_type": "code",
   "execution_count": null,
   "metadata": {
    "id": "YjioQEB12koh",
    "outputId": "d51f755d-83d4-4730-acb0-308485ad3ab7"
   },
   "outputs": [],
   "source": [
    "### START CODE HERE (REPLACE INSTANCES OF 'None' with your code) ###\n",
    "preprocessed_tweets=[]\n",
    "for i in range(len(df)):\n",
    "    preprocessed_tweet=preprocess_tweet(df[\"text\"][i])\n",
    "    preprocessed_tweets.append(preprocessed_tweet)\n",
    "df[\"preprocessed_tweets\"]=preprocessed_tweets\n",
    "display(df)"
   ]
  },
  {
   "cell_type": "markdown",
   "metadata": {
    "id": "MOFlGR0y2koi"
   },
   "source": [
    "## Part 1.3 Create a Levensthein Distance Formula"
   ]
  },
  {
   "cell_type": "markdown",
   "metadata": {
    "id": "km5cU90S2koj"
   },
   "source": [
    "Recall that Edit Distance is the similarity between two words represented numericallly. Levenstehin distance is one of the most common algorithms used in calculating the edit distance between two words. \n",
    "\n",
    "Create your own simple Levensthein distance function. Then return the results of the distance between two words: _stemming_ and _lemmatization_.\n"
   ]
  },
  {
   "cell_type": "code",
   "execution_count": null,
   "metadata": {
    "id": "teSaHxFCykFP"
   },
   "outputs": [],
   "source": [
    "def leven_dist(string1, string2):\n",
    "    if not string1:\n",
    "        return len(string2)\n",
    "    if not string2:\n",
    "        return len(string1)\n",
    "    return min(\n",
    "        leven_dist(string1[1:], string2)+1,\n",
    "        leven_dist(string1, string2[1:])+1,\n",
    "        leven_dist(string1[1:], string2[1:])+(0 if string1[0]==string2[0] else 1)\n",
    "    )\n",
    "string1 = 'stemming'\n",
    "string2 = 'lemmatization'\n",
    "print(\"Your Levensthein Distance is: \",leven_dist(string1,string2))"
   ]
  },
  {
   "cell_type": "markdown",
   "metadata": {
    "id": "9a5gh6B-2kok"
   },
   "source": [
    "### Expected output:\n",
    "Your Levensthein Distance is: 10"
   ]
  },
  {
   "cell_type": "markdown",
   "metadata": {
    "id": "J3PHkeRY2kol"
   },
   "source": [
    "#end of assignment#\n",
    "                                            \n",
    "Source: \n",
    "Natural Language preprocessing, deeplearning.ai\n",
    "Twitter API documentation\n",
    "Wikipedia: Levensthein Distance\n",
    "Chapter 2 (Jurafsky and Martin)\n",
    "                        \n"
   ]
  }
 ],
 "metadata": {
  "colab": {
   "include_colab_link": true,
   "provenance": [],
   "toc_visible": true
  },
  "kernelspec": {
   "display_name": "Python 3 (ipykernel)",
   "language": "python",
   "name": "python3"
  },
  "language_info": {
   "codemirror_mode": {
    "name": "ipython",
    "version": 3
   },
   "file_extension": ".py",
   "mimetype": "text/x-python",
   "name": "python",
   "nbconvert_exporter": "python",
   "pygments_lexer": "ipython3",
   "version": "3.9.13"
  }
 },
 "nbformat": 4,
 "nbformat_minor": 1
}
