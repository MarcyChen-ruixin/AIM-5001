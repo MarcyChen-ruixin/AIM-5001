{
  "nbformat": 4,
  "nbformat_minor": 0,
  "metadata": {
    "colab": {
      "provenance": []
    },
    "kernelspec": {
      "name": "python3",
      "display_name": "Python 3"
    },
    "language_info": {
      "name": "python"
    }
  },
  "cells": [
    {
      "cell_type": "code",
      "execution_count": null,
      "metadata": {
        "colab": {
          "base_uri": "https://localhost:8080/"
        },
        "id": "0NRZ_71wwVAA",
        "outputId": "74a1336c-a84a-41f8-b703-b79d65b06cba"
      },
      "outputs": [
        {
          "output_type": "stream",
          "name": "stdout",
          "text": [
            "15678234\n",
            "18\n",
            "CABCBCBBCBCBCBCABC\n"
          ]
        }
      ],
      "source": [
        "from collections import deque\n",
        "\n",
        "g = [[0]*4 for _ in range(2)]\n",
        "dist = dict()\n",
        "pre = dict()\n",
        "\n",
        "def set(state) :\n",
        "\tfor i in range(4) : g[0][i] = state[i]\n",
        "\tj = 4\n",
        "\tfor i in range(3, -1, -1) :\n",
        "\t\tg[1][i] = state[j]\n",
        "\t\tj += 1\n",
        "\n",
        "def get() :\n",
        "\tres = ''\n",
        "\tfor i in range(4) : res += g[0][i]\n",
        "\tfor i in range(3, -1, -1) : res += g[1][i]\n",
        "\treturn res\n",
        "\n",
        "def move0(state) :\n",
        "\tset(state)\n",
        "\tfor i in range(4) :\n",
        "\t\tg[0][i], g[1][i] = g[1][i], g[0][i]\n",
        "\treturn get()\n",
        "\n",
        "def move1(state) :\n",
        "\tset(state)\n",
        "\tv0, v1 = g[0][3], g[1][3]\n",
        "\tfor i in range(3, 0, -1) :\n",
        "\t\tg[0][i], g[1][i] = g[0][i - 1], g[1][i - 1]\n",
        "\tg[0][0], g[1][0] = v0, v1\n",
        "\treturn get()\n",
        "\n",
        "def move2(state) :\n",
        "\tset(state)\n",
        "\tv = g[0][1]\n",
        "\tg[0][1] = g[1][1]\n",
        "\tg[1][1] = g[1][2]\n",
        "\tg[1][2] = g[0][2]\n",
        "\tg[0][2] = v\n",
        "\treturn get()\n",
        "\n",
        "def bfs(st, ed) :\n",
        "\tif st == ed : return 0\n",
        "\tque = deque()\n",
        "\tque.appendleft(st)\n",
        "\tdist[st] = 0\n",
        "\twhile len(que) :\n",
        "\t\tt = que.pop()\n",
        "\t\tm = []\n",
        "\t\tm.append(move0(t))\n",
        "\t\tm.append(move1(t))\n",
        "\t\tm.append(move2(t))\n",
        "\n",
        "\t\tfor i in range(3) :\n",
        "\t\t\tif dist.get(m[i], -1) == -1 :\n",
        "\t\t\t\tque.appendleft(m[i])\n",
        "\t\t\t\tdist[m[i]] = dist[t] + 1\n",
        "\t\t\t\tpre[m[i]] = [chr(ord('A') + i), t]\n",
        "\t\tif m[i] == ed : return dist[ed]\n",
        "\n",
        "ed = \"\".join(list(map(str, input().split())))\n",
        "st = '12345678'\n",
        "\n",
        "step = bfs(st, ed)\n",
        "\n",
        "print(step)\n",
        "\n",
        "res = ''\n",
        "while ed != st :\n",
        "\tres += pre[ed][0]\n",
        "\ted = pre[ed][1]\n",
        "if step > 0 :\n",
        "    print(res[:: -1])\n"
      ]
    }
  ]
}